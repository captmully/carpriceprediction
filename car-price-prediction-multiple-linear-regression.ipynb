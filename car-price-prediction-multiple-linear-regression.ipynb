{
 "cells": [
  {
   "cell_type": "markdown",
   "id": "b950415c",
   "metadata": {
    "papermill": {
     "duration": 0.007925,
     "end_time": "2024-08-20T15:05:16.280579",
     "exception": false,
     "start_time": "2024-08-20T15:05:16.272654",
     "status": "completed"
    },
    "tags": []
   },
   "source": [
    "# Car Price Prediction using Multiple Linear Regression with SciKit Learn"
   ]
  },
  {
   "cell_type": "code",
   "execution_count": 1,
   "id": "0d0356c8",
   "metadata": {
    "execution": {
     "iopub.execute_input": "2024-08-20T15:05:16.296876Z",
     "iopub.status.busy": "2024-08-20T15:05:16.296425Z",
     "iopub.status.idle": "2024-08-20T15:05:18.682119Z",
     "shell.execute_reply": "2024-08-20T15:05:18.680745Z"
    },
    "papermill": {
     "duration": 2.397565,
     "end_time": "2024-08-20T15:05:18.685611",
     "exception": false,
     "start_time": "2024-08-20T15:05:16.288046",
     "status": "completed"
    },
    "tags": []
   },
   "outputs": [],
   "source": [
    "import pandas as pd\n",
    "from sklearn.linear_model import LinearRegression\n",
    "from sklearn.metrics import mean_absolute_error\n",
    "from sklearn.model_selection import train_test_split\n",
    "import matplotlib.pyplot as plt\n"
   ]
  },
  {
   "cell_type": "markdown",
   "id": "48a32103",
   "metadata": {
    "papermill": {
     "duration": 0.006875,
     "end_time": "2024-08-20T15:05:18.700085",
     "exception": false,
     "start_time": "2024-08-20T15:05:18.693210",
     "status": "completed"
    },
    "tags": []
   },
   "source": [
    "# Importing and some clean up"
   ]
  },
  {
   "cell_type": "code",
   "execution_count": 2,
   "id": "c229180b",
   "metadata": {
    "execution": {
     "iopub.execute_input": "2024-08-20T15:05:18.717028Z",
     "iopub.status.busy": "2024-08-20T15:05:18.716436Z",
     "iopub.status.idle": "2024-08-20T15:05:18.788672Z",
     "shell.execute_reply": "2024-08-20T15:05:18.787253Z"
    },
    "papermill": {
     "duration": 0.084262,
     "end_time": "2024-08-20T15:05:18.792174",
     "exception": false,
     "start_time": "2024-08-20T15:05:18.707912",
     "status": "completed"
    },
    "tags": []
   },
   "outputs": [
    {
     "data": {
      "text/html": [
       "<div>\n",
       "<style scoped>\n",
       "    .dataframe tbody tr th:only-of-type {\n",
       "        vertical-align: middle;\n",
       "    }\n",
       "\n",
       "    .dataframe tbody tr th {\n",
       "        vertical-align: top;\n",
       "    }\n",
       "\n",
       "    .dataframe thead th {\n",
       "        text-align: right;\n",
       "    }\n",
       "</style>\n",
       "<table border=\"1\" class=\"dataframe\">\n",
       "  <thead>\n",
       "    <tr style=\"text-align: right;\">\n",
       "      <th></th>\n",
       "      <th>car_ID</th>\n",
       "      <th>CarName</th>\n",
       "      <th>wheelbase</th>\n",
       "      <th>curbweight</th>\n",
       "      <th>enginesize</th>\n",
       "      <th>boreratio</th>\n",
       "      <th>horsepower</th>\n",
       "      <th>citympg</th>\n",
       "      <th>highwaympg</th>\n",
       "      <th>price</th>\n",
       "    </tr>\n",
       "  </thead>\n",
       "  <tbody>\n",
       "    <tr>\n",
       "      <th>0</th>\n",
       "      <td>1</td>\n",
       "      <td>alfa-romero giulia</td>\n",
       "      <td>88.6</td>\n",
       "      <td>2548</td>\n",
       "      <td>130</td>\n",
       "      <td>3.47</td>\n",
       "      <td>111</td>\n",
       "      <td>21</td>\n",
       "      <td>27</td>\n",
       "      <td>13495.0</td>\n",
       "    </tr>\n",
       "    <tr>\n",
       "      <th>1</th>\n",
       "      <td>2</td>\n",
       "      <td>alfa-romero stelvio</td>\n",
       "      <td>88.6</td>\n",
       "      <td>2548</td>\n",
       "      <td>130</td>\n",
       "      <td>3.47</td>\n",
       "      <td>111</td>\n",
       "      <td>21</td>\n",
       "      <td>27</td>\n",
       "      <td>16500.0</td>\n",
       "    </tr>\n",
       "    <tr>\n",
       "      <th>2</th>\n",
       "      <td>3</td>\n",
       "      <td>alfa-romero Quadrifoglio</td>\n",
       "      <td>94.5</td>\n",
       "      <td>2823</td>\n",
       "      <td>152</td>\n",
       "      <td>2.68</td>\n",
       "      <td>154</td>\n",
       "      <td>19</td>\n",
       "      <td>26</td>\n",
       "      <td>16500.0</td>\n",
       "    </tr>\n",
       "    <tr>\n",
       "      <th>3</th>\n",
       "      <td>4</td>\n",
       "      <td>audi 100 ls</td>\n",
       "      <td>99.8</td>\n",
       "      <td>2337</td>\n",
       "      <td>109</td>\n",
       "      <td>3.19</td>\n",
       "      <td>102</td>\n",
       "      <td>24</td>\n",
       "      <td>30</td>\n",
       "      <td>13950.0</td>\n",
       "    </tr>\n",
       "    <tr>\n",
       "      <th>4</th>\n",
       "      <td>5</td>\n",
       "      <td>audi 100ls</td>\n",
       "      <td>99.4</td>\n",
       "      <td>2824</td>\n",
       "      <td>136</td>\n",
       "      <td>3.19</td>\n",
       "      <td>115</td>\n",
       "      <td>18</td>\n",
       "      <td>22</td>\n",
       "      <td>17450.0</td>\n",
       "    </tr>\n",
       "  </tbody>\n",
       "</table>\n",
       "</div>"
      ],
      "text/plain": [
       "   car_ID                   CarName  wheelbase  curbweight  enginesize  \\\n",
       "0       1        alfa-romero giulia       88.6        2548         130   \n",
       "1       2       alfa-romero stelvio       88.6        2548         130   \n",
       "2       3  alfa-romero Quadrifoglio       94.5        2823         152   \n",
       "3       4               audi 100 ls       99.8        2337         109   \n",
       "4       5                audi 100ls       99.4        2824         136   \n",
       "\n",
       "   boreratio  horsepower  citympg  highwaympg    price  \n",
       "0       3.47         111       21          27  13495.0  \n",
       "1       3.47         111       21          27  16500.0  \n",
       "2       2.68         154       19          26  16500.0  \n",
       "3       3.19         102       24          30  13950.0  \n",
       "4       3.19         115       18          22  17450.0  "
      ]
     },
     "execution_count": 2,
     "metadata": {},
     "output_type": "execute_result"
    }
   ],
   "source": [
    "\n",
    "#Import the dataset\n",
    "path = '/kaggle/input/car-price-prediction/CarPrice_Assignment.csv'\n",
    "df = pd.read_csv(path)\n",
    "\n",
    "#Here im dropping columns that don't have a linear relationship to the price, i am visualziing it using a scatter chart.\n",
    "df = df.drop(['carbody','symboling','doornumber','aspiration','fuelsystem', 'drivewheel', 'fueltype', 'carlength', 'carwidth', 'carheight', 'enginelocation','enginetype','cylindernumber','peakrpm','stroke','compressionratio'],axis=1)\n",
    "\n",
    "# The .head() function prints the top 5 rows of the dataset, which is useful for seeing what our data looks like.\n",
    "df.head()"
   ]
  },
  {
   "cell_type": "code",
   "execution_count": 3,
   "id": "ff34668e",
   "metadata": {
    "execution": {
     "iopub.execute_input": "2024-08-20T15:05:18.810009Z",
     "iopub.status.busy": "2024-08-20T15:05:18.809021Z",
     "iopub.status.idle": "2024-08-20T15:05:19.255756Z",
     "shell.execute_reply": "2024-08-20T15:05:19.254559Z"
    },
    "papermill": {
     "duration": 0.45874,
     "end_time": "2024-08-20T15:05:19.258657",
     "exception": false,
     "start_time": "2024-08-20T15:05:18.799917",
     "status": "completed"
    },
    "tags": []
   },
   "outputs": [
    {
     "data": {
      "text/plain": [
       "Text(0.5, 1.0, 'Horsepower to Price')"
      ]
     },
     "execution_count": 3,
     "metadata": {},
     "output_type": "execute_result"
    },
    {
     "data": {
      "image/png": "[encoded data removed]",
      "text/plain": [
       "<Figure size 640x480 with 1 Axes>"
      ]
     },
     "metadata": {},
     "output_type": "display_data"
    }
   ],
   "source": [
    "#Here you can replace the curbweight column with any other column that you want to visualize its relationship to the price\n",
    "x = df['horsepower']\n",
    "y = df['price']\n",
    "\n",
    "plt.scatter(x,y)\n",
    "plt.xlabel('Horsepower')\n",
    "plt.ylabel('Price')\n",
    "plt.title('Horsepower to Price')"
   ]
  },
  {
   "cell_type": "markdown",
   "id": "2efe45a5",
   "metadata": {
    "papermill": {
     "duration": 0.007625,
     "end_time": "2024-08-20T15:05:19.275656",
     "exception": false,
     "start_time": "2024-08-20T15:05:19.268031",
     "status": "completed"
    },
    "tags": []
   },
   "source": [
    "Using the scatter charts lets us visualize any linear relationships"
   ]
  },
  {
   "cell_type": "markdown",
   "id": "387b059a",
   "metadata": {
    "papermill": {
     "duration": 0.007446,
     "end_time": "2024-08-20T15:05:19.290797",
     "exception": false,
     "start_time": "2024-08-20T15:05:19.283351",
     "status": "completed"
    },
    "tags": []
   },
   "source": [
    "# Analyzing the Data\n",
    "\n",
    "Now that we have the data cleaned up and gotten rid of all columns that don't have a linear relationship to the price, we can start specifying our variables.\n",
    "\n",
    "Its intresting to see that lots of the car features that I was expecting to have a relationship to the price, do not in fact have a linear relationship to the price.\n",
    "\n",
    "So now we can look to see what columns our dataframe contains and get some info about them. "
   ]
  },
  {
   "cell_type": "code",
   "execution_count": 4,
   "id": "36adea1d",
   "metadata": {
    "execution": {
     "iopub.execute_input": "2024-08-20T15:05:19.308449Z",
     "iopub.status.busy": "2024-08-20T15:05:19.308021Z",
     "iopub.status.idle": "2024-08-20T15:05:19.358961Z",
     "shell.execute_reply": "2024-08-20T15:05:19.357723Z"
    },
    "papermill": {
     "duration": 0.063616,
     "end_time": "2024-08-20T15:05:19.362389",
     "exception": false,
     "start_time": "2024-08-20T15:05:19.298773",
     "status": "completed"
    },
    "tags": []
   },
   "outputs": [
    {
     "name": "stdout",
     "output_type": "stream",
     "text": [
      "Dataset Info:\n",
      "<class 'pandas.core.frame.DataFrame'>\n",
      "RangeIndex: 205 entries, 0 to 204\n",
      "Data columns (total 10 columns):\n",
      " #   Column      Non-Null Count  Dtype  \n",
      "---  ------      --------------  -----  \n",
      " 0   car_ID      205 non-null    int64  \n",
      " 1   CarName     205 non-null    object \n",
      " 2   wheelbase   205 non-null    float64\n",
      " 3   curbweight  205 non-null    int64  \n",
      " 4   enginesize  205 non-null    int64  \n",
      " 5   boreratio   205 non-null    float64\n",
      " 6   horsepower  205 non-null    int64  \n",
      " 7   citympg     205 non-null    int64  \n",
      " 8   highwaympg  205 non-null    int64  \n",
      " 9   price       205 non-null    float64\n",
      "dtypes: float64(3), int64(6), object(1)\n",
      "memory usage: 16.1+ KB\n",
      "None\n",
      "\n",
      "Dataset Columns:\n",
      "Index(['car_ID', 'CarName', 'wheelbase', 'curbweight', 'enginesize',\n",
      "       'boreratio', 'horsepower', 'citympg', 'highwaympg', 'price'],\n",
      "      dtype='object')\n",
      "\n",
      "Dataset Statistics:\n",
      "           car_ID   wheelbase   curbweight  enginesize   boreratio  \\\n",
      "count  205.000000  205.000000   205.000000  205.000000  205.000000   \n",
      "mean   103.000000   98.756585  2555.565854  126.907317    3.329756   \n",
      "std     59.322565    6.021776   520.680204   41.642693    0.270844   \n",
      "min      1.000000   86.600000  1488.000000   61.000000    2.540000   \n",
      "25%     52.000000   94.500000  2145.000000   97.000000    3.150000   \n",
      "50%    103.000000   97.000000  2414.000000  120.000000    3.310000   \n",
      "75%    154.000000  102.400000  2935.000000  141.000000    3.580000   \n",
      "max    205.000000  120.900000  4066.000000  326.000000    3.940000   \n",
      "\n",
      "       horsepower     citympg  highwaympg         price  \n",
      "count  205.000000  205.000000  205.000000    205.000000  \n",
      "mean   104.117073   25.219512   30.751220  13276.710571  \n",
      "std     39.544167    6.542142    6.886443   7988.852332  \n",
      "min     48.000000   13.000000   16.000000   5118.000000  \n",
      "25%     70.000000   19.000000   25.000000   7788.000000  \n",
      "50%     95.000000   24.000000   30.000000  10295.000000  \n",
      "75%    116.000000   30.000000   34.000000  16503.000000  \n",
      "max    288.000000   49.000000   54.000000  45400.000000  \n"
     ]
    }
   ],
   "source": [
    "print('Dataset Info:')\n",
    "print(df.info())\n",
    "print()\n",
    "print('Dataset Columns:')\n",
    "print(df.columns)\n",
    "print()\n",
    "print('Dataset Statistics:')\n",
    "print(df.describe())"
   ]
  },
  {
   "cell_type": "markdown",
   "id": "444a01f8",
   "metadata": {
    "papermill": {
     "duration": 0.007728,
     "end_time": "2024-08-20T15:05:19.378215",
     "exception": false,
     "start_time": "2024-08-20T15:05:19.370487",
     "status": "completed"
    },
    "tags": []
   },
   "source": [
    "As you can see from the dataset info results, we have a columns with an object datatype. In order to use this columns in our model, we will need to convert those \"categorical\" columns into numerical columns.\n",
    "\n",
    "In this notebook I think i'm just going to drop the column since I don't care about the name of the car. But in other examples that contain categorical columns that you want to use as features, just remember they will need to be converted into numerical values\n",
    "\n",
    "The .info() also lets us know of any NULL values in the data, which we don't want. But from the output, it doesn't look like we have any null values, so we can skip the part of removing all null values\n",
    "\n",
    "We can also see that we have a total of 205 entries in this dataset, which should be enough info to get an accurate prediction."
   ]
  },
  {
   "cell_type": "code",
   "execution_count": 5,
   "id": "e0999cb0",
   "metadata": {
    "execution": {
     "iopub.execute_input": "2024-08-20T15:05:19.397168Z",
     "iopub.status.busy": "2024-08-20T15:05:19.396645Z",
     "iopub.status.idle": "2024-08-20T15:05:19.418968Z",
     "shell.execute_reply": "2024-08-20T15:05:19.417345Z"
    },
    "papermill": {
     "duration": 0.035405,
     "end_time": "2024-08-20T15:05:19.422254",
     "exception": false,
     "start_time": "2024-08-20T15:05:19.386849",
     "status": "completed"
    },
    "tags": []
   },
   "outputs": [
    {
     "data": {
      "text/html": [
       "<div>\n",
       "<style scoped>\n",
       "    .dataframe tbody tr th:only-of-type {\n",
       "        vertical-align: middle;\n",
       "    }\n",
       "\n",
       "    .dataframe tbody tr th {\n",
       "        vertical-align: top;\n",
       "    }\n",
       "\n",
       "    .dataframe thead th {\n",
       "        text-align: right;\n",
       "    }\n",
       "</style>\n",
       "<table border=\"1\" class=\"dataframe\">\n",
       "  <thead>\n",
       "    <tr style=\"text-align: right;\">\n",
       "      <th></th>\n",
       "      <th>wheelbase</th>\n",
       "      <th>curbweight</th>\n",
       "      <th>enginesize</th>\n",
       "      <th>boreratio</th>\n",
       "      <th>horsepower</th>\n",
       "      <th>citympg</th>\n",
       "      <th>highwaympg</th>\n",
       "      <th>price</th>\n",
       "    </tr>\n",
       "  </thead>\n",
       "  <tbody>\n",
       "    <tr>\n",
       "      <th>0</th>\n",
       "      <td>88.6</td>\n",
       "      <td>2548</td>\n",
       "      <td>130</td>\n",
       "      <td>3.47</td>\n",
       "      <td>111</td>\n",
       "      <td>21</td>\n",
       "      <td>27</td>\n",
       "      <td>13495.0</td>\n",
       "    </tr>\n",
       "    <tr>\n",
       "      <th>1</th>\n",
       "      <td>88.6</td>\n",
       "      <td>2548</td>\n",
       "      <td>130</td>\n",
       "      <td>3.47</td>\n",
       "      <td>111</td>\n",
       "      <td>21</td>\n",
       "      <td>27</td>\n",
       "      <td>16500.0</td>\n",
       "    </tr>\n",
       "    <tr>\n",
       "      <th>2</th>\n",
       "      <td>94.5</td>\n",
       "      <td>2823</td>\n",
       "      <td>152</td>\n",
       "      <td>2.68</td>\n",
       "      <td>154</td>\n",
       "      <td>19</td>\n",
       "      <td>26</td>\n",
       "      <td>16500.0</td>\n",
       "    </tr>\n",
       "    <tr>\n",
       "      <th>3</th>\n",
       "      <td>99.8</td>\n",
       "      <td>2337</td>\n",
       "      <td>109</td>\n",
       "      <td>3.19</td>\n",
       "      <td>102</td>\n",
       "      <td>24</td>\n",
       "      <td>30</td>\n",
       "      <td>13950.0</td>\n",
       "    </tr>\n",
       "    <tr>\n",
       "      <th>4</th>\n",
       "      <td>99.4</td>\n",
       "      <td>2824</td>\n",
       "      <td>136</td>\n",
       "      <td>3.19</td>\n",
       "      <td>115</td>\n",
       "      <td>18</td>\n",
       "      <td>22</td>\n",
       "      <td>17450.0</td>\n",
       "    </tr>\n",
       "  </tbody>\n",
       "</table>\n",
       "</div>"
      ],
      "text/plain": [
       "   wheelbase  curbweight  enginesize  boreratio  horsepower  citympg  \\\n",
       "0       88.6        2548         130       3.47         111       21   \n",
       "1       88.6        2548         130       3.47         111       21   \n",
       "2       94.5        2823         152       2.68         154       19   \n",
       "3       99.8        2337         109       3.19         102       24   \n",
       "4       99.4        2824         136       3.19         115       18   \n",
       "\n",
       "   highwaympg    price  \n",
       "0          27  13495.0  \n",
       "1          27  16500.0  \n",
       "2          26  16500.0  \n",
       "3          30  13950.0  \n",
       "4          22  17450.0  "
      ]
     },
     "execution_count": 5,
     "metadata": {},
     "output_type": "execute_result"
    }
   ],
   "source": [
    "#I'm also going to drop the car_ID column since an index is already generted for us\n",
    "\n",
    "df = df.drop(['CarName','car_ID'],axis=1)\n",
    "df.head()\n"
   ]
  },
  {
   "cell_type": "markdown",
   "id": "a7d29c6f",
   "metadata": {
    "papermill": {
     "duration": 0.008504,
     "end_time": "2024-08-20T15:05:19.439379",
     "exception": false,
     "start_time": "2024-08-20T15:05:19.430875",
     "status": "completed"
    },
    "tags": []
   },
   "source": [
    "# Preparing the features and Y value\n",
    "\n",
    "Now our data looks much better, and will be so much easier to work with. Data preparation in my opinion is one of the most crucial steps in building ML models, and somehow the most enjoyable for me.\n",
    "\n",
    "All the previous steps could've been done in less code blocks, I wanted to jot down my thought process while building this project in order to reinforce what I know, and so others can follow along.\n",
    "\n",
    "Lets start getting our X and y variables created. The X variable will contain all the feature we want to use to make prediction (Which are all the columns other than the price). Then we will create the y variable which is our value we want to predict, in this case, 'price'."
   ]
  },
  {
   "cell_type": "code",
   "execution_count": 6,
   "id": "eca24848",
   "metadata": {
    "execution": {
     "iopub.execute_input": "2024-08-20T15:05:19.458341Z",
     "iopub.status.busy": "2024-08-20T15:05:19.457934Z",
     "iopub.status.idle": "2024-08-20T15:05:19.474781Z",
     "shell.execute_reply": "2024-08-20T15:05:19.473138Z"
    },
    "papermill": {
     "duration": 0.030185,
     "end_time": "2024-08-20T15:05:19.478293",
     "exception": false,
     "start_time": "2024-08-20T15:05:19.448108",
     "status": "completed"
    },
    "tags": []
   },
   "outputs": [
    {
     "name": "stdout",
     "output_type": "stream",
     "text": [
      "<bound method NDFrame.head of      wheelbase  curbweight  enginesize  boreratio  horsepower  citympg  \\\n",
      "0         88.6        2548         130       3.47         111       21   \n",
      "1         88.6        2548         130       3.47         111       21   \n",
      "2         94.5        2823         152       2.68         154       19   \n",
      "3         99.8        2337         109       3.19         102       24   \n",
      "4         99.4        2824         136       3.19         115       18   \n",
      "..         ...         ...         ...        ...         ...      ...   \n",
      "200      109.1        2952         141       3.78         114       23   \n",
      "201      109.1        3049         141       3.78         160       19   \n",
      "202      109.1        3012         173       3.58         134       18   \n",
      "203      109.1        3217         145       3.01         106       26   \n",
      "204      109.1        3062         141       3.78         114       19   \n",
      "\n",
      "     highwaympg  \n",
      "0            27  \n",
      "1            27  \n",
      "2            26  \n",
      "3            30  \n",
      "4            22  \n",
      "..          ...  \n",
      "200          28  \n",
      "201          25  \n",
      "202          23  \n",
      "203          27  \n",
      "204          25  \n",
      "\n",
      "[205 rows x 7 columns]>\n",
      "<bound method NDFrame.head of 0      13495.0\n",
      "1      16500.0\n",
      "2      16500.0\n",
      "3      13950.0\n",
      "4      17450.0\n",
      "        ...   \n",
      "200    16845.0\n",
      "201    19045.0\n",
      "202    21485.0\n",
      "203    22470.0\n",
      "204    22625.0\n",
      "Name: price, Length: 205, dtype: float64>\n"
     ]
    }
   ],
   "source": [
    "feature_columns = ['wheelbase','curbweight','enginesize','boreratio','horsepower','citympg','highwaympg']\n",
    "\n",
    "X = df[feature_columns]\n",
    "y = df['price']\n",
    "\n",
    "print(X.head)\n",
    "print(y.head)"
   ]
  },
  {
   "cell_type": "markdown",
   "id": "4373b80d",
   "metadata": {
    "papermill": {
     "duration": 0.008823,
     "end_time": "2024-08-20T15:05:19.496052",
     "exception": false,
     "start_time": "2024-08-20T15:05:19.487229",
     "status": "completed"
    },
    "tags": []
   },
   "source": [
    "# Splitting the data\n",
    "\n",
    "Now its time to split our data into 'Training' and 'Testing' datasets. We will split it so we have 75% training data and 25% testing data.\n",
    "\n",
    "We split the data so that we can train it on 75% of the data that will include the price, so once it finds a line of best fit, we will test it on the other 25% that does not include the price to see if it can make accurate prediction, we will then evaluate the model. But lets start with the splitting\n",
    "\n",
    "You can specify the size of the split with the 'test_size' paremeter in the train_test_split function. By default its a 75-25 split"
   ]
  },
  {
   "cell_type": "code",
   "execution_count": 7,
   "id": "d1186df9",
   "metadata": {
    "execution": {
     "iopub.execute_input": "2024-08-20T15:05:19.515848Z",
     "iopub.status.busy": "2024-08-20T15:05:19.515359Z",
     "iopub.status.idle": "2024-08-20T15:05:19.531385Z",
     "shell.execute_reply": "2024-08-20T15:05:19.529925Z"
    },
    "papermill": {
     "duration": 0.029145,
     "end_time": "2024-08-20T15:05:19.534108",
     "exception": false,
     "start_time": "2024-08-20T15:05:19.504963",
     "status": "completed"
    },
    "tags": []
   },
   "outputs": [
    {
     "name": "stdout",
     "output_type": "stream",
     "text": [
      "     wheelbase  curbweight  enginesize  boreratio  horsepower  citympg  \\\n",
      "23        93.7        2128          98       3.03         102       24   \n",
      "3         99.8        2337         109       3.19         102       24   \n",
      "55        95.3        2380          70       3.33         101       17   \n",
      "14       103.5        3055         164       3.31         121       20   \n",
      "184       97.3        2264          97       3.01          52       37   \n",
      "\n",
      "     highwaympg  \n",
      "23           30  \n",
      "3            30  \n",
      "55           23  \n",
      "14           25  \n",
      "184          46  \n",
      "168     9639.0\n",
      "69     28176.0\n",
      "174    10698.0\n",
      "12     20970.0\n",
      "100     9549.0\n",
      "Name: price, dtype: float64\n"
     ]
    }
   ],
   "source": [
    "X_train, X_test, y_train, y_test = train_test_split(X,y)\n",
    "\n",
    "print(X_train.head())\n",
    "print(y_test.head())"
   ]
  },
  {
   "cell_type": "markdown",
   "id": "bcaa41be",
   "metadata": {
    "papermill": {
     "duration": 0.008936,
     "end_time": "2024-08-20T15:05:19.551563",
     "exception": false,
     "start_time": "2024-08-20T15:05:19.542627",
     "status": "completed"
    },
    "tags": []
   },
   "source": [
    "# Specifying and Fitting the model"
   ]
  },
  {
   "cell_type": "markdown",
   "id": "ffc4cf89",
   "metadata": {
    "papermill": {
     "duration": 0.008095,
     "end_time": "2024-08-20T15:05:19.568109",
     "exception": false,
     "start_time": "2024-08-20T15:05:19.560014",
     "status": "completed"
    },
    "tags": []
   },
   "source": [
    "Suprisingly, this is the easiest part of this project. Using the LinearRegression module we can easily specify our model and fit it using the .fit()\n",
    "\n",
    "This will find the line of best fit for us, allowing us to make predictions"
   ]
  },
  {
   "cell_type": "code",
   "execution_count": 8,
   "id": "783580e6",
   "metadata": {
    "execution": {
     "iopub.execute_input": "2024-08-20T15:05:19.587267Z",
     "iopub.status.busy": "2024-08-20T15:05:19.586789Z",
     "iopub.status.idle": "2024-08-20T15:05:19.620647Z",
     "shell.execute_reply": "2024-08-20T15:05:19.618992Z"
    },
    "papermill": {
     "duration": 0.047551,
     "end_time": "2024-08-20T15:05:19.624231",
     "exception": false,
     "start_time": "2024-08-20T15:05:19.576680",
     "status": "completed"
    },
    "tags": []
   },
   "outputs": [
    {
     "data": {
      "text/html": [
       "<style>#sk-container-id-1 {color: black;background-color: white;}#sk-container-id-1 pre{padding: 0;}#sk-container-id-1 div.sk-toggleable {background-color: white;}#sk-container-id-1 label.sk-toggleable__label {cursor: pointer;display: block;width: 100%;margin-bottom: 0;padding: 0.3em;box-sizing: border-box;text-align: center;}#sk-container-id-1 label.sk-toggleable__label-arrow:before {content: \"▸\";float: left;margin-right: 0.25em;color: #696969;}#sk-container-id-1 label.sk-toggleable__label-arrow:hover:before {color: black;}#sk-container-id-1 div.sk-estimator:hover label.sk-toggleable__label-arrow:before {color: black;}#sk-container-id-1 div.sk-toggleable__content {max-height: 0;max-width: 0;overflow: hidden;text-align: left;background-color: #f0f8ff;}#sk-container-id-1 div.sk-toggleable__content pre {margin: 0.2em;color: black;border-radius: 0.25em;background-color: #f0f8ff;}#sk-container-id-1 input.sk-toggleable__control:checked~div.sk-toggleable__content {max-height: 200px;max-width: 100%;overflow: auto;}#sk-container-id-1 input.sk-toggleable__control:checked~label.sk-toggleable__label-arrow:before {content: \"▾\";}#sk-container-id-1 div.sk-estimator input.sk-toggleable__control:checked~label.sk-toggleable__label {background-color: #d4ebff;}#sk-container-id-1 div.sk-label input.sk-toggleable__control:checked~label.sk-toggleable__label {background-color: #d4ebff;}#sk-container-id-1 input.sk-hidden--visually {border: 0;clip: rect(1px 1px 1px 1px);clip: rect(1px, 1px, 1px, 1px);height: 1px;margin: -1px;overflow: hidden;padding: 0;position: absolute;width: 1px;}#sk-container-id-1 div.sk-estimator {font-family: monospace;background-color: #f0f8ff;border: 1px dotted black;border-radius: 0.25em;box-sizing: border-box;margin-bottom: 0.5em;}#sk-container-id-1 div.sk-estimator:hover {background-color: #d4ebff;}#sk-container-id-1 div.sk-parallel-item::after {content: \"\";width: 100%;border-bottom: 1px solid gray;flex-grow: 1;}#sk-container-id-1 div.sk-label:hover label.sk-toggleable__label {background-color: #d4ebff;}#sk-container-id-1 div.sk-serial::before {content: \"\";position: absolute;border-left: 1px solid gray;box-sizing: border-box;top: 0;bottom: 0;left: 50%;z-index: 0;}#sk-container-id-1 div.sk-serial {display: flex;flex-direction: column;align-items: center;background-color: white;padding-right: 0.2em;padding-left: 0.2em;position: relative;}#sk-container-id-1 div.sk-item {position: relative;z-index: 1;}#sk-container-id-1 div.sk-parallel {display: flex;align-items: stretch;justify-content: center;background-color: white;position: relative;}#sk-container-id-1 div.sk-item::before, #sk-container-id-1 div.sk-parallel-item::before {content: \"\";position: absolute;border-left: 1px solid gray;box-sizing: border-box;top: 0;bottom: 0;left: 50%;z-index: -1;}#sk-container-id-1 div.sk-parallel-item {display: flex;flex-direction: column;z-index: 1;position: relative;background-color: white;}#sk-container-id-1 div.sk-parallel-item:first-child::after {align-self: flex-end;width: 50%;}#sk-container-id-1 div.sk-parallel-item:last-child::after {align-self: flex-start;width: 50%;}#sk-container-id-1 div.sk-parallel-item:only-child::after {width: 0;}#sk-container-id-1 div.sk-dashed-wrapped {border: 1px dashed gray;margin: 0 0.4em 0.5em 0.4em;box-sizing: border-box;padding-bottom: 0.4em;background-color: white;}#sk-container-id-1 div.sk-label label {font-family: monospace;font-weight: bold;display: inline-block;line-height: 1.2em;}#sk-container-id-1 div.sk-label-container {text-align: center;}#sk-container-id-1 div.sk-container {/* jupyter's `normalize.less` sets `[hidden] { display: none; }` but bootstrap.min.css set `[hidden] { display: none !important; }` so we also need the `!important` here to be able to override the default hidden behavior on the sphinx rendered scikit-learn.org. See: https://github.com/scikit-learn/scikit-learn/issues/21755 */display: inline-block !important;position: relative;}#sk-container-id-1 div.sk-text-repr-fallback {display: none;}</style><div id=\"sk-container-id-1\" class=\"sk-top-container\"><div class=\"sk-text-repr-fallback\"><pre>LinearRegression()</pre><b>In a Jupyter environment, please rerun this cell to show the HTML representation or trust the notebook. <br />On GitHub, the HTML representation is unable to render, please try loading this page with nbviewer.org.</b></div><div class=\"sk-container\" hidden><div class=\"sk-item\"><div class=\"sk-estimator sk-toggleable\"><input class=\"sk-toggleable__control sk-hidden--visually\" id=\"sk-estimator-id-1\" type=\"checkbox\" checked><label for=\"sk-estimator-id-1\" class=\"sk-toggleable__label sk-toggleable__label-arrow\">LinearRegression</label><div class=\"sk-toggleable__content\"><pre>LinearRegression()</pre></div></div></div></div></div>"
      ],
      "text/plain": [
       "LinearRegression()"
      ]
     },
     "execution_count": 8,
     "metadata": {},
     "output_type": "execute_result"
    }
   ],
   "source": [
    "#Specify the type of model we want to use \n",
    "lrmodel = LinearRegression()\n",
    "\n",
    "#We fit the model on the training data\n",
    "lrmodel.fit(X_train,y_train)\n",
    "\n",
    "#If you get an output like this, it successfully found the line of best fit! "
   ]
  },
  {
   "cell_type": "markdown",
   "id": "3477df4e",
   "metadata": {
    "papermill": {
     "duration": 0.008662,
     "end_time": "2024-08-20T15:05:19.642457",
     "exception": false,
     "start_time": "2024-08-20T15:05:19.633795",
     "status": "completed"
    },
    "tags": []
   },
   "source": [
    "# Making Predictions\n",
    "\n",
    "Now that we have our line of best fit, we are ready to start making predictions. We will use the .predict() function to do this.\n",
    "\n",
    "First we will create a prediction variable to store the predicted price inside, make the prediction, and look at the actual value we were trying to predict.\n",
    "\n",
    "Then we will run a new prediction on the testing data. "
   ]
  },
  {
   "cell_type": "markdown",
   "id": "c24ef4e1",
   "metadata": {
    "papermill": {
     "duration": 0.009237,
     "end_time": "2024-08-20T15:05:19.660498",
     "exception": false,
     "start_time": "2024-08-20T15:05:19.651261",
     "status": "completed"
    },
    "tags": []
   },
   "source": [
    "# Evaluating the Model\n",
    "\n",
    "This step is very important since it gives us an idea of how accurate our model is. We will use the 'Mean Absolute Error' so get the average amount the prediction is off by"
   ]
  },
  {
   "cell_type": "code",
   "execution_count": 9,
   "id": "3aa11d86",
   "metadata": {
    "execution": {
     "iopub.execute_input": "2024-08-20T15:05:19.681539Z",
     "iopub.status.busy": "2024-08-20T15:05:19.681036Z",
     "iopub.status.idle": "2024-08-20T15:05:19.692533Z",
     "shell.execute_reply": "2024-08-20T15:05:19.690971Z"
    },
    "papermill": {
     "duration": 0.027117,
     "end_time": "2024-08-20T15:05:19.696620",
     "exception": false,
     "start_time": "2024-08-20T15:05:19.669503",
     "status": "completed"
    },
    "tags": []
   },
   "outputs": [
    {
     "name": "stdout",
     "output_type": "stream",
     "text": [
      "Predicted Price: 9368.90765668454\n",
      "Actual value: 23    7957.0\n",
      "Name: price, dtype: float64\n"
     ]
    }
   ],
   "source": [
    "#Here we are making predictions using the training data\n",
    "prediction = lrmodel.predict(X_train)\n",
    "print('Predicted Price:', prediction[0]) #This prints the first prediction row\n",
    "print('Actual value:',y_train[:1]) # This is printing the actual value that we were trying to predict \n"
   ]
  },
  {
   "cell_type": "code",
   "execution_count": 10,
   "id": "2da5aa9e",
   "metadata": {
    "execution": {
     "iopub.execute_input": "2024-08-20T15:05:19.718973Z",
     "iopub.status.busy": "2024-08-20T15:05:19.718492Z",
     "iopub.status.idle": "2024-08-20T15:05:19.736255Z",
     "shell.execute_reply": "2024-08-20T15:05:19.734288Z"
    },
    "papermill": {
     "duration": 0.032438,
     "end_time": "2024-08-20T15:05:19.739265",
     "exception": false,
     "start_time": "2024-08-20T15:05:19.706827",
     "status": "completed"
    },
    "tags": []
   },
   "outputs": [
    {
     "name": "stdout",
     "output_type": "stream",
     "text": [
      "Mean Absolute Error: 2243.4334516119357\n",
      "\n",
      "     wheelbase  curbweight  enginesize  boreratio  horsepower  citympg  \\\n",
      "168       98.4        2536         146       3.62         116       24   \n",
      "69       106.7        3495         183       3.58         123       22   \n",
      "174      102.4        2480         110       3.27          73       30   \n",
      "12       101.2        2710         164       3.31         121       21   \n",
      "100       97.2        2302         120       3.33          97       27   \n",
      "\n",
      "     highwaympg  \n",
      "168          30  \n",
      "69           25  \n",
      "174          33  \n",
      "12           28  \n",
      "100          34  \n",
      "List of first 5 predictions associated with the features above: [15273.1117984  22368.16241212 10288.17720445 18384.24152823\n",
      " 11520.92893672]\n"
     ]
    }
   ],
   "source": [
    "#Making predictions on the test set\n",
    "y_pred = lrmodel.predict(X_test)\n",
    "\n",
    "#Calcuate the mae\n",
    "mae = mean_absolute_error(y_test,y_pred)\n",
    "print('Mean Absolute Error:', mae)\n",
    "print()\n",
    "print(X_test.head())\n",
    "print('List of first 5 predictions associated with the features above:',y_pred[:5])"
   ]
  }
 ],
 "metadata": {
  "kaggle": {
   "accelerator": "none",
   "dataSources": [
    {
     "datasetId": 383055,
     "sourceId": 741735,
     "sourceType": "datasetVersion"
    }
   ],
   "dockerImageVersionId": 30746,
   "isGpuEnabled": false,
   "isInternetEnabled": false,
   "language": "python",
   "sourceType": "notebook"
  },
  "kernelspec": {
   "display_name": "Python 3",
   "language": "python",
   "name": "python3"
  },
  "language_info": {
   "codemirror_mode": {
    "name": "ipython",
    "version": 3
   },
   "file_extension": ".py",
   "mimetype": "text/x-python",
   "name": "python",
   "nbconvert_exporter": "python",
   "pygments_lexer": "ipython3",
   "version": "3.10.13"
  },
  "papermill": {
   "default_parameters": {},
   "duration": 7.575975,
   "end_time": "2024-08-20T15:05:20.573737",
   "environment_variables": {},
   "exception": null,
   "input_path": "__notebook__.ipynb",
   "output_path": "__notebook__.ipynb",
   "parameters": {},
   "start_time": "2024-08-20T15:05:12.997762",
   "version": "2.5.0"
  }
 },
 "nbformat": 4,
 "nbformat_minor": 5
}
